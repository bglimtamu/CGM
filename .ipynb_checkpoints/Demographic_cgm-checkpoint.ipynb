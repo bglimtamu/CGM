{
 "cells": [
  {
   "cell_type": "code",
   "execution_count": 22,
   "id": "c476cf45-4bfa-4e46-b598-a7758d88fd15",
   "metadata": {},
   "outputs": [
    {
     "data": {
      "text/html": [
       "<div>\n",
       "<style scoped>\n",
       "    .dataframe tbody tr th:only-of-type {\n",
       "        vertical-align: middle;\n",
       "    }\n",
       "\n",
       "    .dataframe tbody tr th {\n",
       "        vertical-align: top;\n",
       "    }\n",
       "\n",
       "    .dataframe thead th {\n",
       "        text-align: right;\n",
       "    }\n",
       "</style>\n",
       "<table border=\"1\" class=\"dataframe\">\n",
       "  <thead>\n",
       "    <tr style=\"text-align: right;\">\n",
       "      <th></th>\n",
       "      <th>record_id</th>\n",
       "      <th>bmi_metric</th>\n",
       "      <th>age</th>\n",
       "    </tr>\n",
       "  </thead>\n",
       "  <tbody>\n",
       "    <tr>\n",
       "      <th>0</th>\n",
       "      <td>1</td>\n",
       "      <td>27.766870</td>\n",
       "      <td>48</td>\n",
       "    </tr>\n",
       "    <tr>\n",
       "      <th>1</th>\n",
       "      <td>2</td>\n",
       "      <td>31.061526</td>\n",
       "      <td>27</td>\n",
       "    </tr>\n",
       "    <tr>\n",
       "      <th>2</th>\n",
       "      <td>3</td>\n",
       "      <td>38.185209</td>\n",
       "      <td>54</td>\n",
       "    </tr>\n",
       "    <tr>\n",
       "      <th>3</th>\n",
       "      <td>7</td>\n",
       "      <td>32.504433</td>\n",
       "      <td>49</td>\n",
       "    </tr>\n",
       "    <tr>\n",
       "      <th>4</th>\n",
       "      <td>8</td>\n",
       "      <td>27.219501</td>\n",
       "      <td>61</td>\n",
       "    </tr>\n",
       "    <tr>\n",
       "      <th>...</th>\n",
       "      <td>...</td>\n",
       "      <td>...</td>\n",
       "      <td>...</td>\n",
       "    </tr>\n",
       "    <tr>\n",
       "      <th>78</th>\n",
       "      <td>84</td>\n",
       "      <td>32.233539</td>\n",
       "      <td>60</td>\n",
       "    </tr>\n",
       "    <tr>\n",
       "      <th>79</th>\n",
       "      <td>85</td>\n",
       "      <td>32.920748</td>\n",
       "      <td>52</td>\n",
       "    </tr>\n",
       "    <tr>\n",
       "      <th>80</th>\n",
       "      <td>86</td>\n",
       "      <td>28.454329</td>\n",
       "      <td>31</td>\n",
       "    </tr>\n",
       "    <tr>\n",
       "      <th>81</th>\n",
       "      <td>87</td>\n",
       "      <td>36.996560</td>\n",
       "      <td>46</td>\n",
       "    </tr>\n",
       "    <tr>\n",
       "      <th>82</th>\n",
       "      <td>89</td>\n",
       "      <td>27.468910</td>\n",
       "      <td>53</td>\n",
       "    </tr>\n",
       "  </tbody>\n",
       "</table>\n",
       "<p>83 rows × 3 columns</p>\n",
       "</div>"
      ],
      "text/plain": [
       "    record_id  bmi_metric  age\n",
       "0           1   27.766870   48\n",
       "1           2   31.061526   27\n",
       "2           3   38.185209   54\n",
       "3           7   32.504433   49\n",
       "4           8   27.219501   61\n",
       "..        ...         ...  ...\n",
       "78         84   32.233539   60\n",
       "79         85   32.920748   52\n",
       "80         86   28.454329   31\n",
       "81         87   36.996560   46\n",
       "82         89   27.468910   53\n",
       "\n",
       "[83 rows x 3 columns]"
      ]
     },
     "execution_count": 22,
     "metadata": {},
     "output_type": "execute_result"
    }
   ],
   "source": [
    "import pandas as pd\n",
    "\n",
    "# 엑셀 파일 불러오기\n",
    "df = pd.read_excel('/Users/bg.lim/Downloads/Texas A&M_Agrilife/Projects/1.CGM/Pilot/BG_Proposal/Demographic/age_bmi.xlsx', engine='openpyxl')  # 파일 경로 지정\n",
    "\n",
    "df"
   ]
  },
  {
   "cell_type": "code",
   "execution_count": 24,
   "id": "09dcf5f2-5ffe-43b2-b96f-76d07d636c11",
   "metadata": {},
   "outputs": [
    {
     "name": "stdout",
     "output_type": "stream",
     "text": [
      "<class 'pandas.core.frame.DataFrame'>\n",
      "RangeIndex: 83 entries, 0 to 82\n",
      "Data columns (total 3 columns):\n",
      " #   Column      Non-Null Count  Dtype  \n",
      "---  ------      --------------  -----  \n",
      " 0   record_id   83 non-null     int64  \n",
      " 1   bmi_metric  83 non-null     float64\n",
      " 2   age         83 non-null     int64  \n",
      "dtypes: float64(1), int64(2)\n",
      "memory usage: 2.1 KB\n"
     ]
    }
   ],
   "source": [
    "df.info()"
   ]
  },
  {
   "cell_type": "code",
   "execution_count": 28,
   "id": "e4d32893-0012-4ded-b98d-da0899212a72",
   "metadata": {},
   "outputs": [
    {
     "name": "stdout",
     "output_type": "stream",
     "text": [
      "BMI - Mean: record_id     45.228916\n",
      "bmi_metric    32.823712\n",
      "age           48.012048\n",
      "dtype: float64, Standard Deviation: record_id     24.774754\n",
      "bmi_metric     4.786759\n",
      "age           11.542598\n",
      "dtype: float64\n",
      "Age - Mean: record_id     45.228916\n",
      "bmi_metric    32.823712\n",
      "age           48.012048\n",
      "dtype: float64, Standard Deviation: record_id     24.774754\n",
      "bmi_metric     4.786759\n",
      "age           11.542598\n",
      "dtype: float64\n"
     ]
    }
   ],
   "source": [
    "# 평균과 표준 편차 계산\n",
    "bmi_mean = df.mean()\n",
    "bmi_std = df.std()\n",
    "age_mean = df.mean()\n",
    "age_std = df.std()\n",
    "\n",
    "# 결과 출력\n",
    "print(f\"BMI - Mean: {bmi_mean}, Standard Deviation: {bmi_std}\")\n",
    "print(f\"Age - Mean: {age_mean}, Standard Deviation: {age_std}\")"
   ]
  },
  {
   "cell_type": "code",
   "execution_count": null,
   "id": "4552e489-fddf-46fd-9f3e-375c5acbd263",
   "metadata": {},
   "outputs": [],
   "source": []
  }
 ],
 "metadata": {
  "kernelspec": {
   "display_name": "Python [conda env:base] *",
   "language": "python",
   "name": "conda-base-py"
  },
  "language_info": {
   "codemirror_mode": {
    "name": "ipython",
    "version": 3
   },
   "file_extension": ".py",
   "mimetype": "text/x-python",
   "name": "python",
   "nbconvert_exporter": "python",
   "pygments_lexer": "ipython3",
   "version": "3.12.7"
  }
 },
 "nbformat": 4,
 "nbformat_minor": 5
}
